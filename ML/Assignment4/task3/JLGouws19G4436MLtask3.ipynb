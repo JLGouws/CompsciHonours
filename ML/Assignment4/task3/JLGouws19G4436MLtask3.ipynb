{
  "metadata": {
    "kernelspec": {
      "language": "python",
      "display_name": "Python 3",
      "name": "python3"
    },
    "language_info": {
      "pygments_lexer": "ipython3",
      "nbconvert_exporter": "python",
      "version": "3.6.4",
      "file_extension": ".py",
      "codemirror_mode": {
        "name": "ipython",
        "version": 3
      },
      "name": "python",
      "mimetype": "text/x-python"
    },
    "colab": {
      "name": "JLGouws19G4436MLtask3.ipynb",
      "provenance": []
    },
    "accelerator": "GPU"
  },
  "nbformat_minor": 0,
  "nbformat": 4,
  "cells": [
    {
      "cell_type": "code",
      "source": [
        "# This Python 3 environment comes with many helpful analytics libraries installed\n",
        "# It is defined by the kaggle/python Docker image: https://github.com/kaggle/docker-python\n",
        "# For example, here's several helpful packages to load\n",
        "\n",
        "import numpy as np # linear algebra\n",
        "import pandas as pd # data processing, CSV file I/O (e.g. pd.read_csv)\n",
        "\n",
        "# Input data files are available in the read-only \"../input/\" directory\n",
        "# For example, running this (by clicking run or pressing Shift+Enter) will list all files under the input directory\n",
        "\n",
        "import os\n",
        "for dirname, _, filenames in os.walk('/kaggle/input'):\n",
        "    for filename in filenames:\n",
        "        print(os.path.join(dirname, filename))\n",
        "\n",
        "# You can write up to 20GB to the current directory (/kaggle/working/) that gets preserved as output when you create a version using \"Save & Run All\" \n",
        "# You can also write temporary files to /kaggle/temp/, but they won't be saved outside of the current session"
      ],
      "metadata": {
        "_uuid": "8f2839f25d086af736a60e9eeb907d3b93b6e0e5",
        "_cell_guid": "b1076dfc-b9ad-4769-8c92-a6c4dae69d19",
        "execution": {
          "iopub.status.busy": "2022-04-16T17:39:05.646379Z",
          "iopub.execute_input": "2022-04-16T17:39:05.646982Z",
          "iopub.status.idle": "2022-04-16T17:39:05.652608Z",
          "shell.execute_reply.started": "2022-04-16T17:39:05.646942Z",
          "shell.execute_reply": "2022-04-16T17:39:05.651784Z"
        },
        "trusted": true,
        "id": "NhtgnrjP_OT7"
      },
      "execution_count": 34,
      "outputs": []
    },
    {
      "cell_type": "code",
      "source": [
        "import sklearn\n",
        "from sklearn import datasets\n",
        "from sklearn import preprocessing as prep\n",
        "from sklearn.model_selection import train_test_split\n",
        "from sklearn.metrics import classification_report\n",
        "from keras.models import Sequential\n",
        "from keras.layers import Dense, Dropout, Input\n",
        "from keras.utils import np_utils\n",
        "from tensorflow.keras.utils import to_categorical\n",
        "from tensorflow.keras.callbacks import EarlyStopping\n",
        "\n",
        "from tensorflow.keras.optimizers import Adam\n",
        "\n",
        "import matplotlib.pyplot as plt\n",
        "\n",
        "random_state = 42"
      ],
      "metadata": {
        "execution": {
          "iopub.status.busy": "2022-04-16T17:39:05.699634Z",
          "iopub.execute_input": "2022-04-16T17:39:05.699948Z",
          "iopub.status.idle": "2022-04-16T17:39:05.70573Z",
          "shell.execute_reply.started": "2022-04-16T17:39:05.699914Z",
          "shell.execute_reply": "2022-04-16T17:39:05.704658Z"
        },
        "trusted": true,
        "id": "-h2OJEWR_OUD"
      },
      "execution_count": 35,
      "outputs": []
    },
    {
      "cell_type": "code",
      "source": [
        "wineData = datasets.load_wine()"
      ],
      "metadata": {
        "execution": {
          "iopub.status.busy": "2022-04-16T17:39:05.707569Z",
          "iopub.execute_input": "2022-04-16T17:39:05.708024Z",
          "iopub.status.idle": "2022-04-16T17:39:05.718369Z",
          "shell.execute_reply.started": "2022-04-16T17:39:05.707982Z",
          "shell.execute_reply": "2022-04-16T17:39:05.717532Z"
        },
        "trusted": true,
        "id": "GPE6XTCR_OUE"
      },
      "execution_count": 36,
      "outputs": []
    },
    {
      "cell_type": "code",
      "source": [
        "#split the data into training and testing sets\n",
        "#I chose a train test split of 80%-20% since the dataset is relatively small\n",
        "X_train, X_test, y_train, y_test = train_test_split(wineData.data, wineData.target, test_size = 0.2, random_state = random_state)\n",
        "y_train = to_categorical(y_train)\n",
        "scaler = prep.MinMaxScaler().fit(X_train)\n",
        "X_train = scaler.transform(X_train)"
      ],
      "metadata": {
        "execution": {
          "iopub.status.busy": "2022-04-16T17:39:05.729619Z",
          "iopub.execute_input": "2022-04-16T17:39:05.730033Z",
          "iopub.status.idle": "2022-04-16T17:39:05.736277Z",
          "shell.execute_reply.started": "2022-04-16T17:39:05.730001Z",
          "shell.execute_reply": "2022-04-16T17:39:05.73555Z"
        },
        "trusted": true,
        "id": "XpTkR-UM_OUG"
      },
      "execution_count": 37,
      "outputs": []
    },
    {
      "cell_type": "code",
      "source": [
        "model = Sequential()\n",
        "model.add(Input(shape=(None,) + X_train.shape[1:]))\n",
        "model.add(Dense(12, activation = 'relu'))\n",
        "model.add(Dense(10, activation = 'relu'))\n",
        "model.add(Dense(6, activation = 'relu'))\n",
        "model.add(Dense(wineData.target_names.size, activation='softmax'))\n",
        "model.compile(\n",
        "    loss='categorical_crossentropy',\n",
        "    optimizer=Adam(learning_rate=5e-3),\n",
        "    metrics=['accuracy']\n",
        ")"
      ],
      "metadata": {
        "execution": {
          "iopub.status.busy": "2022-04-16T17:39:05.740547Z",
          "iopub.execute_input": "2022-04-16T17:39:05.740786Z",
          "iopub.status.idle": "2022-04-16T17:39:11.121534Z",
          "shell.execute_reply.started": "2022-04-16T17:39:05.740759Z",
          "shell.execute_reply": "2022-04-16T17:39:11.120667Z"
        },
        "trusted": true,
        "id": "29Yh4a_6_OUG"
      },
      "execution_count": 38,
      "outputs": []
    },
    {
      "cell_type": "code",
      "source": [
        "hist = model.fit(X_train, y_train, validation_split=0.1, epochs=75)"
      ],
      "metadata": {
        "execution": {
          "iopub.status.busy": "2022-04-16T17:39:11.123232Z",
          "iopub.execute_input": "2022-04-16T17:39:11.123537Z",
          "iopub.status.idle": "2022-04-16T17:39:19.30006Z",
          "shell.execute_reply.started": "2022-04-16T17:39:11.123484Z",
          "shell.execute_reply": "2022-04-16T17:39:19.299072Z"
        },
        "trusted": true,
        "colab": {
          "base_uri": "https://localhost:8080/"
        },
        "id": "iPTO4J7v_OUI",
        "outputId": "9c97d1a2-ad2b-43ae-e2ec-ad3424ff5fbd"
      },
      "execution_count": 39,
      "outputs": [
        {
          "output_type": "stream",
          "name": "stdout",
          "text": [
            "Epoch 1/75\n",
            "WARNING:tensorflow:Model was constructed with shape (None, None, 13) for input KerasTensor(type_spec=TensorSpec(shape=(None, None, 13), dtype=tf.float32, name='input_4'), name='input_4', description=\"created by layer 'input_4'\"), but it was called on an input with incompatible shape (None, 13).\n",
            "WARNING:tensorflow:Model was constructed with shape (None, None, 13) for input KerasTensor(type_spec=TensorSpec(shape=(None, None, 13), dtype=tf.float32, name='input_4'), name='input_4', description=\"created by layer 'input_4'\"), but it was called on an input with incompatible shape (None, 13).\n",
            "1/4 [======>.......................] - ETA: 1s - loss: 1.1280 - accuracy: 0.2188WARNING:tensorflow:Model was constructed with shape (None, None, 13) for input KerasTensor(type_spec=TensorSpec(shape=(None, None, 13), dtype=tf.float32, name='input_4'), name='input_4', description=\"created by layer 'input_4'\"), but it was called on an input with incompatible shape (None, 13).\n",
            "4/4 [==============================] - 1s 78ms/step - loss: 1.0919 - accuracy: 0.4016 - val_loss: 1.0870 - val_accuracy: 0.3333\n",
            "Epoch 2/75\n",
            "4/4 [==============================] - 0s 13ms/step - loss: 1.0180 - accuracy: 0.7480 - val_loss: 1.0030 - val_accuracy: 0.6000\n",
            "Epoch 3/75\n",
            "4/4 [==============================] - 0s 13ms/step - loss: 0.9627 - accuracy: 0.8031 - val_loss: 0.9546 - val_accuracy: 0.8000\n",
            "Epoch 4/75\n",
            "4/4 [==============================] - 0s 13ms/step - loss: 0.8992 - accuracy: 0.8898 - val_loss: 0.9166 - val_accuracy: 0.7333\n",
            "Epoch 5/75\n",
            "4/4 [==============================] - 0s 13ms/step - loss: 0.8483 - accuracy: 0.8583 - val_loss: 0.8882 - val_accuracy: 0.4000\n",
            "Epoch 6/75\n",
            "4/4 [==============================] - 0s 13ms/step - loss: 0.7825 - accuracy: 0.8346 - val_loss: 0.8393 - val_accuracy: 0.4667\n",
            "Epoch 7/75\n",
            "4/4 [==============================] - 0s 13ms/step - loss: 0.7158 - accuracy: 0.8268 - val_loss: 0.7863 - val_accuracy: 0.6000\n",
            "Epoch 8/75\n",
            "4/4 [==============================] - 0s 15ms/step - loss: 0.6427 - accuracy: 0.8504 - val_loss: 0.7090 - val_accuracy: 0.8000\n",
            "Epoch 9/75\n",
            "4/4 [==============================] - 0s 13ms/step - loss: 0.5771 - accuracy: 0.9134 - val_loss: 0.6475 - val_accuracy: 0.8667\n",
            "Epoch 10/75\n",
            "4/4 [==============================] - 0s 13ms/step - loss: 0.5150 - accuracy: 0.9528 - val_loss: 0.5963 - val_accuracy: 0.8000\n",
            "Epoch 11/75\n",
            "4/4 [==============================] - 0s 13ms/step - loss: 0.4535 - accuracy: 0.9449 - val_loss: 0.5429 - val_accuracy: 0.8000\n",
            "Epoch 12/75\n",
            "4/4 [==============================] - 0s 13ms/step - loss: 0.3974 - accuracy: 0.9449 - val_loss: 0.4689 - val_accuracy: 0.9333\n",
            "Epoch 13/75\n",
            "4/4 [==============================] - 0s 14ms/step - loss: 0.3528 - accuracy: 0.9528 - val_loss: 0.4545 - val_accuracy: 0.8667\n",
            "Epoch 14/75\n",
            "4/4 [==============================] - 0s 13ms/step - loss: 0.3010 - accuracy: 0.9764 - val_loss: 0.3481 - val_accuracy: 1.0000\n",
            "Epoch 15/75\n",
            "4/4 [==============================] - 0s 13ms/step - loss: 0.2619 - accuracy: 0.9843 - val_loss: 0.3255 - val_accuracy: 0.9333\n",
            "Epoch 16/75\n",
            "4/4 [==============================] - 0s 12ms/step - loss: 0.2298 - accuracy: 0.9764 - val_loss: 0.2837 - val_accuracy: 1.0000\n",
            "Epoch 17/75\n",
            "4/4 [==============================] - 0s 14ms/step - loss: 0.1951 - accuracy: 0.9921 - val_loss: 0.2657 - val_accuracy: 0.9333\n",
            "Epoch 18/75\n",
            "4/4 [==============================] - 0s 16ms/step - loss: 0.1707 - accuracy: 0.9921 - val_loss: 0.2156 - val_accuracy: 1.0000\n",
            "Epoch 19/75\n",
            "4/4 [==============================] - 0s 12ms/step - loss: 0.1483 - accuracy: 0.9921 - val_loss: 0.1888 - val_accuracy: 1.0000\n",
            "Epoch 20/75\n",
            "4/4 [==============================] - 0s 13ms/step - loss: 0.1299 - accuracy: 0.9843 - val_loss: 0.1579 - val_accuracy: 1.0000\n",
            "Epoch 21/75\n",
            "4/4 [==============================] - 0s 13ms/step - loss: 0.1153 - accuracy: 0.9921 - val_loss: 0.1501 - val_accuracy: 1.0000\n",
            "Epoch 22/75\n",
            "4/4 [==============================] - 0s 13ms/step - loss: 0.1022 - accuracy: 0.9921 - val_loss: 0.1326 - val_accuracy: 1.0000\n",
            "Epoch 23/75\n",
            "4/4 [==============================] - 0s 13ms/step - loss: 0.0927 - accuracy: 0.9921 - val_loss: 0.1216 - val_accuracy: 1.0000\n",
            "Epoch 24/75\n",
            "4/4 [==============================] - 0s 13ms/step - loss: 0.0814 - accuracy: 1.0000 - val_loss: 0.1090 - val_accuracy: 1.0000\n",
            "Epoch 25/75\n",
            "4/4 [==============================] - 0s 14ms/step - loss: 0.0724 - accuracy: 0.9843 - val_loss: 0.0910 - val_accuracy: 1.0000\n",
            "Epoch 26/75\n",
            "4/4 [==============================] - 0s 12ms/step - loss: 0.0656 - accuracy: 0.9843 - val_loss: 0.0839 - val_accuracy: 1.0000\n",
            "Epoch 27/75\n",
            "4/4 [==============================] - 0s 13ms/step - loss: 0.0586 - accuracy: 0.9921 - val_loss: 0.0718 - val_accuracy: 1.0000\n",
            "Epoch 28/75\n",
            "4/4 [==============================] - 0s 13ms/step - loss: 0.0545 - accuracy: 0.9921 - val_loss: 0.0672 - val_accuracy: 1.0000\n",
            "Epoch 29/75\n",
            "4/4 [==============================] - 0s 13ms/step - loss: 0.0482 - accuracy: 1.0000 - val_loss: 0.0688 - val_accuracy: 1.0000\n",
            "Epoch 30/75\n",
            "4/4 [==============================] - 0s 15ms/step - loss: 0.0465 - accuracy: 1.0000 - val_loss: 0.0708 - val_accuracy: 1.0000\n",
            "Epoch 31/75\n",
            "4/4 [==============================] - 0s 13ms/step - loss: 0.0428 - accuracy: 1.0000 - val_loss: 0.0697 - val_accuracy: 1.0000\n",
            "Epoch 32/75\n",
            "4/4 [==============================] - 0s 15ms/step - loss: 0.0383 - accuracy: 1.0000 - val_loss: 0.0497 - val_accuracy: 1.0000\n",
            "Epoch 33/75\n",
            "4/4 [==============================] - 0s 13ms/step - loss: 0.0355 - accuracy: 1.0000 - val_loss: 0.0418 - val_accuracy: 1.0000\n",
            "Epoch 34/75\n",
            "4/4 [==============================] - 0s 14ms/step - loss: 0.0337 - accuracy: 1.0000 - val_loss: 0.0485 - val_accuracy: 1.0000\n",
            "Epoch 35/75\n",
            "4/4 [==============================] - 0s 13ms/step - loss: 0.0317 - accuracy: 1.0000 - val_loss: 0.0494 - val_accuracy: 1.0000\n",
            "Epoch 36/75\n",
            "4/4 [==============================] - 0s 13ms/step - loss: 0.0286 - accuracy: 1.0000 - val_loss: 0.0404 - val_accuracy: 1.0000\n",
            "Epoch 37/75\n",
            "4/4 [==============================] - 0s 20ms/step - loss: 0.0270 - accuracy: 1.0000 - val_loss: 0.0382 - val_accuracy: 1.0000\n",
            "Epoch 38/75\n",
            "4/4 [==============================] - 0s 12ms/step - loss: 0.0259 - accuracy: 1.0000 - val_loss: 0.0370 - val_accuracy: 1.0000\n",
            "Epoch 39/75\n",
            "4/4 [==============================] - 0s 12ms/step - loss: 0.0240 - accuracy: 1.0000 - val_loss: 0.0395 - val_accuracy: 1.0000\n",
            "Epoch 40/75\n",
            "4/4 [==============================] - 0s 12ms/step - loss: 0.0220 - accuracy: 1.0000 - val_loss: 0.0364 - val_accuracy: 1.0000\n",
            "Epoch 41/75\n",
            "4/4 [==============================] - 0s 13ms/step - loss: 0.0210 - accuracy: 1.0000 - val_loss: 0.0345 - val_accuracy: 1.0000\n",
            "Epoch 42/75\n",
            "4/4 [==============================] - 0s 12ms/step - loss: 0.0216 - accuracy: 1.0000 - val_loss: 0.0296 - val_accuracy: 1.0000\n",
            "Epoch 43/75\n",
            "4/4 [==============================] - 0s 13ms/step - loss: 0.0208 - accuracy: 1.0000 - val_loss: 0.0364 - val_accuracy: 1.0000\n",
            "Epoch 44/75\n",
            "4/4 [==============================] - 0s 13ms/step - loss: 0.0191 - accuracy: 1.0000 - val_loss: 0.0273 - val_accuracy: 1.0000\n",
            "Epoch 45/75\n",
            "4/4 [==============================] - 0s 14ms/step - loss: 0.0170 - accuracy: 1.0000 - val_loss: 0.0250 - val_accuracy: 1.0000\n",
            "Epoch 46/75\n",
            "4/4 [==============================] - 0s 12ms/step - loss: 0.0185 - accuracy: 1.0000 - val_loss: 0.0316 - val_accuracy: 1.0000\n",
            "Epoch 47/75\n",
            "4/4 [==============================] - 0s 12ms/step - loss: 0.0163 - accuracy: 1.0000 - val_loss: 0.0268 - val_accuracy: 1.0000\n",
            "Epoch 48/75\n",
            "4/4 [==============================] - 0s 14ms/step - loss: 0.0151 - accuracy: 1.0000 - val_loss: 0.0299 - val_accuracy: 1.0000\n",
            "Epoch 49/75\n",
            "4/4 [==============================] - 0s 12ms/step - loss: 0.0143 - accuracy: 1.0000 - val_loss: 0.0238 - val_accuracy: 1.0000\n",
            "Epoch 50/75\n",
            "4/4 [==============================] - 0s 12ms/step - loss: 0.0140 - accuracy: 1.0000 - val_loss: 0.0197 - val_accuracy: 1.0000\n",
            "Epoch 51/75\n",
            "4/4 [==============================] - 0s 12ms/step - loss: 0.0151 - accuracy: 1.0000 - val_loss: 0.0279 - val_accuracy: 1.0000\n",
            "Epoch 52/75\n",
            "4/4 [==============================] - 0s 13ms/step - loss: 0.0127 - accuracy: 1.0000 - val_loss: 0.0243 - val_accuracy: 1.0000\n",
            "Epoch 53/75\n",
            "4/4 [==============================] - 0s 13ms/step - loss: 0.0116 - accuracy: 1.0000 - val_loss: 0.0197 - val_accuracy: 1.0000\n",
            "Epoch 54/75\n",
            "4/4 [==============================] - 0s 19ms/step - loss: 0.0111 - accuracy: 1.0000 - val_loss: 0.0201 - val_accuracy: 1.0000\n",
            "Epoch 55/75\n",
            "4/4 [==============================] - 0s 17ms/step - loss: 0.0116 - accuracy: 1.0000 - val_loss: 0.0224 - val_accuracy: 1.0000\n",
            "Epoch 56/75\n",
            "4/4 [==============================] - 0s 13ms/step - loss: 0.0105 - accuracy: 1.0000 - val_loss: 0.0180 - val_accuracy: 1.0000\n",
            "Epoch 57/75\n",
            "4/4 [==============================] - 0s 12ms/step - loss: 0.0101 - accuracy: 1.0000 - val_loss: 0.0195 - val_accuracy: 1.0000\n",
            "Epoch 58/75\n",
            "4/4 [==============================] - 0s 13ms/step - loss: 0.0090 - accuracy: 1.0000 - val_loss: 0.0191 - val_accuracy: 1.0000\n",
            "Epoch 59/75\n",
            "4/4 [==============================] - 0s 16ms/step - loss: 0.0088 - accuracy: 1.0000 - val_loss: 0.0179 - val_accuracy: 1.0000\n",
            "Epoch 60/75\n",
            "4/4 [==============================] - 0s 12ms/step - loss: 0.0084 - accuracy: 1.0000 - val_loss: 0.0188 - val_accuracy: 1.0000\n",
            "Epoch 61/75\n",
            "4/4 [==============================] - 0s 12ms/step - loss: 0.0079 - accuracy: 1.0000 - val_loss: 0.0174 - val_accuracy: 1.0000\n",
            "Epoch 62/75\n",
            "4/4 [==============================] - 0s 13ms/step - loss: 0.0077 - accuracy: 1.0000 - val_loss: 0.0166 - val_accuracy: 1.0000\n",
            "Epoch 63/75\n",
            "4/4 [==============================] - 0s 13ms/step - loss: 0.0075 - accuracy: 1.0000 - val_loss: 0.0167 - val_accuracy: 1.0000\n",
            "Epoch 64/75\n",
            "4/4 [==============================] - 0s 13ms/step - loss: 0.0072 - accuracy: 1.0000 - val_loss: 0.0151 - val_accuracy: 1.0000\n",
            "Epoch 65/75\n",
            "4/4 [==============================] - 0s 13ms/step - loss: 0.0070 - accuracy: 1.0000 - val_loss: 0.0144 - val_accuracy: 1.0000\n",
            "Epoch 66/75\n",
            "4/4 [==============================] - 0s 19ms/step - loss: 0.0066 - accuracy: 1.0000 - val_loss: 0.0157 - val_accuracy: 1.0000\n",
            "Epoch 67/75\n",
            "4/4 [==============================] - 0s 13ms/step - loss: 0.0063 - accuracy: 1.0000 - val_loss: 0.0169 - val_accuracy: 1.0000\n",
            "Epoch 68/75\n",
            "4/4 [==============================] - 0s 13ms/step - loss: 0.0063 - accuracy: 1.0000 - val_loss: 0.0161 - val_accuracy: 1.0000\n",
            "Epoch 69/75\n",
            "4/4 [==============================] - 0s 13ms/step - loss: 0.0060 - accuracy: 1.0000 - val_loss: 0.0142 - val_accuracy: 1.0000\n",
            "Epoch 70/75\n",
            "4/4 [==============================] - 0s 13ms/step - loss: 0.0060 - accuracy: 1.0000 - val_loss: 0.0144 - val_accuracy: 1.0000\n",
            "Epoch 71/75\n",
            "4/4 [==============================] - 0s 13ms/step - loss: 0.0058 - accuracy: 1.0000 - val_loss: 0.0125 - val_accuracy: 1.0000\n",
            "Epoch 72/75\n",
            "4/4 [==============================] - 0s 13ms/step - loss: 0.0054 - accuracy: 1.0000 - val_loss: 0.0147 - val_accuracy: 1.0000\n",
            "Epoch 73/75\n",
            "4/4 [==============================] - 0s 16ms/step - loss: 0.0055 - accuracy: 1.0000 - val_loss: 0.0143 - val_accuracy: 1.0000\n",
            "Epoch 74/75\n",
            "4/4 [==============================] - 0s 12ms/step - loss: 0.0052 - accuracy: 1.0000 - val_loss: 0.0126 - val_accuracy: 1.0000\n",
            "Epoch 75/75\n",
            "4/4 [==============================] - 0s 12ms/step - loss: 0.0049 - accuracy: 1.0000 - val_loss: 0.0124 - val_accuracy: 1.0000\n"
          ]
        }
      ]
    },
    {
      "cell_type": "code",
      "source": [
        "def plot_history(h):\n",
        "    for k in h.keys():\n",
        "        plt.figure()\n",
        "        plt.plot(h[k])\n",
        "        plt.xlabel(\"Epoch\")\n",
        "        plt.ylabel(k)\n",
        "        plt.show()\n",
        "        plt.close()\n",
        "        \n",
        "plot_history(hist.history)"
      ],
      "metadata": {
        "execution": {
          "iopub.status.busy": "2022-04-16T17:39:19.301981Z",
          "iopub.execute_input": "2022-04-16T17:39:19.302366Z",
          "iopub.status.idle": "2022-04-16T17:39:19.86546Z",
          "shell.execute_reply.started": "2022-04-16T17:39:19.302309Z",
          "shell.execute_reply": "2022-04-16T17:39:19.864466Z"
        },
        "trusted": true,
        "colab": {
          "base_uri": "https://localhost:8080/",
          "height": 1000
        },
        "id": "IVQaJr3b_OUI",
        "outputId": "393d3dc0-8d21-49d8-9cf2-adb1fa5f7012"
      },
      "execution_count": 40,
      "outputs": [
        {
          "output_type": "display_data",
          "data": {
            "text/plain": [
              "<Figure size 432x288 with 1 Axes>"
            ],
            "image/png": "[encoded data removed]"
          },
          "metadata": {
            "needs_background": "light"
          }
        },
        {
          "output_type": "display_data",
          "data": {
            "text/plain": [
              "<Figure size 432x288 with 1 Axes>"
            ],
            "image/png": "[encoded data removed]"
          },
          "metadata": {
            "needs_background": "light"
          }
        },
        {
          "output_type": "display_data",
          "data": {
            "text/plain": [
              "<Figure size 432x288 with 1 Axes>"
            ],
            "image/png": "[encoded data removed]"
          },
          "metadata": {
            "needs_background": "light"
          }
        },
        {
          "output_type": "display_data",
          "data": {
            "text/plain": [
              "<Figure size 432x288 with 1 Axes>"
            ],
            "image/png": "[encoded data removed]"
          },
          "metadata": {
            "needs_background": "light"
          }
        }
      ]
    },
    {
      "cell_type": "code",
      "source": [
        "X_test = scaler.transform(X_test)\n",
        "y_test = to_categorical(y_test)\n",
        "y_pred = model.predict(X_test, batch_size=250 , verbose=0)\n",
        "#classification report for the model\n",
        "print(classification_report(np.argmax(y_test, axis=1), np.argmax(y_pred, axis=1)))\n",
        "#The model seems to predict everything correctly"
      ],
      "metadata": {
        "execution": {
          "iopub.status.busy": "2022-04-16T17:39:19.867647Z",
          "iopub.execute_input": "2022-04-16T17:39:19.868193Z",
          "iopub.status.idle": "2022-04-16T17:39:19.943818Z",
          "shell.execute_reply.started": "2022-04-16T17:39:19.868143Z",
          "shell.execute_reply": "2022-04-16T17:39:19.942793Z"
        },
        "trusted": true,
        "colab": {
          "base_uri": "https://localhost:8080/"
        },
        "id": "s4YBmpEG_OUI",
        "outputId": "9b606d56-50d6-403d-edc7-ed44174b787a"
      },
      "execution_count": 41,
      "outputs": [
        {
          "output_type": "stream",
          "name": "stdout",
          "text": [
            "WARNING:tensorflow:Model was constructed with shape (None, None, 13) for input KerasTensor(type_spec=TensorSpec(shape=(None, None, 13), dtype=tf.float32, name='input_4'), name='input_4', description=\"created by layer 'input_4'\"), but it was called on an input with incompatible shape (None, 13).\n",
            "              precision    recall  f1-score   support\n",
            "\n",
            "           0       1.00      1.00      1.00        14\n",
            "           1       1.00      1.00      1.00        14\n",
            "           2       1.00      1.00      1.00         8\n",
            "\n",
            "    accuracy                           1.00        36\n",
            "   macro avg       1.00      1.00      1.00        36\n",
            "weighted avg       1.00      1.00      1.00        36\n",
            "\n"
          ]
        }
      ]
    }
  ]
}